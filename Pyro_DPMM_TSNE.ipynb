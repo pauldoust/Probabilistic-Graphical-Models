{
  "nbformat": 4,
  "nbformat_minor": 0,
  "metadata": {
    "colab": {
      "name": "Pyro_DPMM - TSNE",
      "provenance": [],
      "collapsed_sections": [
        "PMhZ62F2lJlu",
        "RjyHy-BDlWfR",
        "KyJqntB2mb_Y"
      ],
      "toc_visible": true
    },
    "kernelspec": {
      "name": "python3",
      "display_name": "Python 3"
    },
    "accelerator": "GPU"
  },
  "cells": [
    {
      "cell_type": "markdown",
      "metadata": {
        "id": "KJnc1qLOpHuZ",
        "colab_type": "text"
      },
      "source": [
        "# <center> PGM Project</center>\n",
        "## <center>Dirichlet Process Mixture Models</center>\n",
        "\n",
        "\n",
        "\n",
        "---\n",
        "\n",
        "\n",
        "*   Mohammad POUL DOUST\n",
        "*   Andrei MARDALE\n",
        "*   Etienne EKPO\n",
        "*   Laetitia COUGE\n",
        "\n"
      ]
    },
    {
      "cell_type": "markdown",
      "metadata": {
        "id": "PMhZ62F2lJlu",
        "colab_type": "text"
      },
      "source": [
        "# Preparing Environment \n",
        "\n"
      ]
    },
    {
      "cell_type": "code",
      "metadata": {
        "id": "ND2jqJ--k2NQ",
        "colab_type": "code",
        "colab": {}
      },
      "source": [
        "# Install PYro\n",
        "!pip install http://download.pytorch.org/whl/cpu/torch-0.4.0-cp27-cp27mu-linux_x86_64.whl \n",
        "!pip install pyro-ppl"
      ],
      "execution_count": 0,
      "outputs": []
    },
    {
      "cell_type": "code",
      "metadata": {
        "id": "hVT5lUDVklZ8",
        "colab_type": "code",
        "colab": {}
      },
      "source": [
        "#imports\n",
        "\n",
        "import torch\n",
        "from torch.distributions import constraints\n",
        "import torch.nn.functional as F\n",
        "import pandas as pd\n",
        "import numpy as np\n",
        "import matplotlib.pyplot as plt\n",
        "import matplotlib.cm as cm\n",
        "from tqdm import tqdm\n",
        "\n",
        "from pyro.distributions import *\n",
        "import pyro\n",
        "from pyro.optim import Adam\n",
        "from pyro.infer import SVI, Trace_ELBO, Predictive\n",
        "assert pyro.__version__.startswith('1')\n",
        "pyro.enable_validation(True)       # can help with debugging\n",
        "pyro.set_rng_seed(0)\n",
        "from IPython.display import Math, HTML\n",
        "\n",
        "# Airbus\n",
        "from collections import Counter\n",
        "\n",
        "import pandas as pd\n",
        "import numpy as np\n",
        "\n",
        "import h5py\n",
        "\n",
        "from scipy.special import expit\n",
        "from scipy.spatial import distance\n",
        "\n",
        "import pywt\n",
        "import scipy\n",
        "\n",
        "from sklearn.preprocessing import StandardScaler,RobustScaler, MinMaxScaler\n",
        "from sklearn.decomposition.pca import PCA\n",
        "from sklearn.decomposition import KernelPCA\n",
        "from sklearn.manifold.t_sne import TSNE\n",
        "from sklearn.cluster import DBSCAN\n",
        "\n",
        "# from metric_learn import LMNN\n",
        "\n",
        "from sklearn.model_selection import train_test_split\n",
        "import seaborn as sns\n",
        "\n",
        "%tensorflow_version 1.x\n",
        "from tensorflow.keras.layers import Input, Dense, Conv1D, MaxPooling1D, UpSampling1D, BatchNormalization, Reshape, GlobalAveragePooling1D, Dropout\n",
        "from tensorflow.keras.models import Model\n",
        "from tensorflow.keras import regularizers\n",
        "from tensorflow.keras.utils import plot_model\n",
        "from tensorflow.keras import Sequential, optimizers\n",
        "\n",
        "import plotly.graph_objects as go\n",
        "import matplotlib.pyplot as plt\n",
        "%matplotlib inline"
      ],
      "execution_count": 0,
      "outputs": []
    },
    {
      "cell_type": "code",
      "metadata": {
        "id": "ScuhqhmLlbS3",
        "colab_type": "code",
        "outputId": "2ac8c487-509b-4c64-a480-561c09ce4aa5",
        "colab": {
          "base_uri": "https://localhost:8080/",
          "height": 692
        }
      },
      "source": [
        "# Datasets\n",
        "!wget 'https://defi-ia.insa-toulouse.fr/static/data/train.hdf5' --no-check-certificate\n",
        "!wget 'https://defi-ia.insa-toulouse.fr/static/data/validation.hdf5' --no-check-certificate\n",
        "!wget 'https://defi-ia.insa-toulouse.fr/static/data/test.hdf5' --no-check-certificate"
      ],
      "execution_count": 0,
      "outputs": [
        {
          "output_type": "stream",
          "text": [
            "--2020-01-24 22:12:18--  https://defi-ia.insa-toulouse.fr/static/data/train.hdf5\n",
            "Resolving defi-ia.insa-toulouse.fr (defi-ia.insa-toulouse.fr)... 195.83.9.100\n",
            "Connecting to defi-ia.insa-toulouse.fr (defi-ia.insa-toulouse.fr)|195.83.9.100|:443... connected.\n",
            "WARNING: cannot verify defi-ia.insa-toulouse.fr's certificate, issued by ‘CN=TERENA SSL High Assurance CA 3,O=TERENA,L=Amsterdam,ST=Noord-Holland,C=NL’:\n",
            "  Unable to locally verify the issuer's authority.\n",
            "HTTP request sent, awaiting response... 200 OK\n",
            "Length: 825280760 (787M) [application/octet-stream]\n",
            "Saving to: ‘train.hdf5’\n",
            "\n",
            "train.hdf5          100%[===================>] 787.05M  24.9MB/s    in 33s     \n",
            "\n",
            "2020-01-24 22:12:51 (24.1 MB/s) - ‘train.hdf5’ saved [825280760/825280760]\n",
            "\n",
            "--2020-01-24 22:12:52--  https://defi-ia.insa-toulouse.fr/static/data/validation.hdf5\n",
            "Resolving defi-ia.insa-toulouse.fr (defi-ia.insa-toulouse.fr)... 195.83.9.100\n",
            "Connecting to defi-ia.insa-toulouse.fr (defi-ia.insa-toulouse.fr)|195.83.9.100|:443... connected.\n",
            "WARNING: cannot verify defi-ia.insa-toulouse.fr's certificate, issued by ‘CN=TERENA SSL High Assurance CA 3,O=TERENA,L=Amsterdam,ST=Noord-Holland,C=NL’:\n",
            "  Unable to locally verify the issuer's authority.\n",
            "HTTP request sent, awaiting response... 200 OK\n",
            "Length: 292955936 (279M) [application/octet-stream]\n",
            "Saving to: ‘validation.hdf5’\n",
            "\n",
            "validation.hdf5     100%[===================>] 279.38M  24.6MB/s    in 12s     \n",
            "\n",
            "2020-01-24 22:13:05 (23.0 MB/s) - ‘validation.hdf5’ saved [292955936/292955936]\n",
            "\n",
            "--2020-01-24 22:13:05--  https://defi-ia.insa-toulouse.fr/static/data/test.hdf5\n",
            "Resolving defi-ia.insa-toulouse.fr (defi-ia.insa-toulouse.fr)... 195.83.9.100\n",
            "Connecting to defi-ia.insa-toulouse.fr (defi-ia.insa-toulouse.fr)|195.83.9.100|:443... connected.\n",
            "WARNING: cannot verify defi-ia.insa-toulouse.fr's certificate, issued by ‘CN=TERENA SSL High Assurance CA 3,O=TERENA,L=Amsterdam,ST=Noord-Holland,C=NL’:\n",
            "  Unable to locally verify the issuer's authority.\n",
            "HTTP request sent, awaiting response... 200 OK\n",
            "Length: 943247408 (900M) [application/octet-stream]\n",
            "Saving to: ‘test.hdf5’\n",
            "\n",
            "test.hdf5           100%[===================>] 899.55M  24.5MB/s    in 37s     \n",
            "\n",
            "2020-01-24 22:13:43 (24.0 MB/s) - ‘test.hdf5’ saved [943247408/943247408]\n",
            "\n"
          ],
          "name": "stdout"
        }
      ]
    },
    {
      "cell_type": "markdown",
      "metadata": {
        "id": "RjyHy-BDlWfR",
        "colab_type": "text"
      },
      "source": [
        "# Data Processing"
      ]
    },
    {
      "cell_type": "code",
      "metadata": {
        "id": "T5WBhMu9ltnc",
        "colab_type": "code",
        "colab": {}
      },
      "source": [
        "# Helpers\n",
        "def load_dataset(train_path, valid_path, test_path):\n",
        "    with h5py.File(train_path, 'r') as f:\n",
        "        a_group_key = list(f.keys())[0]\n",
        "        group = f[a_group_key]\n",
        "        \n",
        "        data = group[\"block0_values\"][()]\n",
        "        train_data = data\n",
        "    \n",
        "    with h5py.File(valid_path, 'r') as f:\n",
        "        a_group_key = list(f.keys())[0]\n",
        "        group = f[a_group_key]\n",
        "        \n",
        "        data = group[\"block0_values\"][()]\n",
        "        valid_data = data\n",
        "        \n",
        "    with h5py.File(test_path, 'r') as f:\n",
        "        a_group_key = list(f.keys())[0]\n",
        "        group = f[a_group_key]\n",
        "        \n",
        "        data = group[\"block0_values\"][()]\n",
        "        test_data = data\n",
        "    \n",
        "    return train_data, valid_data, test_data\n",
        "  \n",
        "def aggregate_by_mean(X_train, X_valid, X_test):\n",
        "    X_train_agg = np.mean(X_train.reshape((X_train.shape[0], 12288, 5)), axis = 2)\n",
        "    X_valid_agg = np.mean(X_valid.reshape((X_valid.shape[0], 12288, 5)), axis = 2)\n",
        "    X_test_agg = np.mean(X_test.reshape((X_test.shape[0], 12288, 5)), axis = 2)\n",
        "  \n",
        "    return X_train_agg, X_valid_agg, X_test_agg\n",
        "\n",
        "\n",
        "def calculate_entropy(list_values):\n",
        "    counter_values = Counter(list_values).most_common()\n",
        "    probabilities = [elem[1]/len(list_values) for elem in counter_values]\n",
        "    entropy=scipy.stats.entropy(probabilities)\n",
        "    return entropy\n",
        "\n",
        "\n",
        "def get_features(list_values):\n",
        "    entropy = calculate_entropy(list_values)\n",
        "    crossings = calculate_crossings(list_values)\n",
        "    statistics = calculate_statistics(list_values)\n",
        "    return [entropy] + crossings + statistics\n",
        "\n",
        "\n",
        "def calculate_statistics(list_values):\n",
        "    n5 = np.nanpercentile(list_values, 5)\n",
        "    n25 = np.nanpercentile(list_values, 25)\n",
        "    n75 = np.nanpercentile(list_values, 75)\n",
        "    n95 = np.nanpercentile(list_values, 95)\n",
        "    median = np.nanpercentile(list_values, 50)\n",
        "    mean = np.nanmean(list_values)\n",
        "    std = np.nanstd(list_values)\n",
        "    var = np.nanvar(list_values)\n",
        "    rms = np.nanmean(np.sqrt(list_values**2))\n",
        "    return [n5, n25, n75, n95, median, mean, std, var, rms]\n",
        "\n",
        "def calculate_crossings(list_values):\n",
        "    zero_crossing_indices = np.nonzero(np.diff(np.array(list_values) > 0))[0]\n",
        "    no_zero_crossings = len(zero_crossing_indices)\n",
        "    mean_crossing_indices = np.nonzero(np.diff(np.array(list_values) > np.nanmean(list_values)))[0]\n",
        "    no_mean_crossings = len(mean_crossing_indices)\n",
        "    return [no_zero_crossings, no_mean_crossings]\n",
        "\n",
        "\n"
      ],
      "execution_count": 0,
      "outputs": []
    },
    {
      "cell_type": "code",
      "metadata": {
        "id": "RIZj3w8bl6nT",
        "colab_type": "code",
        "outputId": "aefbda32-923e-47a0-b0a3-cc7f7e235845",
        "colab": {
          "base_uri": "https://localhost:8080/",
          "height": 67
        }
      },
      "source": [
        "# Load Data\n",
        "X_train, X_validation, X_test  = load_dataset('train.hdf5', 'validation.hdf5', 'test.hdf5')\n",
        "X_train_agg, X_valid_agg, X_test_agg = aggregate_by_mean(X_train, X_validation, X_test)\n",
        "\n",
        "print(X_train_agg.shape)\n",
        "print(X_valid_agg.shape)\n",
        "print(X_test_agg.shape)"
      ],
      "execution_count": 0,
      "outputs": [
        {
          "output_type": "stream",
          "text": [
            "(1677, 12288)\n",
            "(594, 12288)\n",
            "(1917, 12288)\n"
          ],
          "name": "stdout"
        }
      ]
    },
    {
      "cell_type": "code",
      "metadata": {
        "id": "ONfV-LBgmTlM",
        "colab_type": "code",
        "colab": {}
      },
      "source": [
        "# Features Extraction\n",
        "x_t = np.array(get_features_ab(X_train_agg, 'bior6.8'))\n",
        "x_v = np.array(get_features_ab(X_valid_agg, 'bior6.8'))\n",
        "x_tst = np.array(get_features_ab(X_test_agg, 'bior6.8'))"
      ],
      "execution_count": 0,
      "outputs": []
    },
    {
      "cell_type": "code",
      "metadata": {
        "id": "1DeGG8s5mZ9T",
        "colab_type": "code",
        "colab": {}
      },
      "source": [
        "# scaling\n",
        "scaler = StandardScaler()\n",
        "\n",
        "x_train_scaled = scaler.fit_transform(x_t)\n",
        "x_valid_scaled = scaler.transform(x_v)\n",
        "x_test_scaled = scaler.transform(x_tst)\n"
      ],
      "execution_count": 0,
      "outputs": []
    },
    {
      "cell_type": "markdown",
      "metadata": {
        "id": "KyJqntB2mb_Y",
        "colab_type": "text"
      },
      "source": [
        "# Tsne Embedding:"
      ]
    },
    {
      "cell_type": "code",
      "metadata": {
        "id": "GTDTqTIxmehL",
        "colab_type": "code",
        "colab": {}
      },
      "source": [
        "x_train_valid = np.concatenate((x_train_scaled, x_valid_scaled), axis=0)\n",
        "y_train_valid = np.concatenate((np.ones(x_train_scaled.shape[0]), np.zeros(x_valid_scaled.shape[0])), axis=0)\n",
        "X_embedded_train_valid = TSNE(n_components=2).fit_transform(x_train_valid)\n"
      ],
      "execution_count": 0,
      "outputs": []
    },
    {
      "cell_type": "markdown",
      "metadata": {
        "id": "P4hL_ezJopnN",
        "colab_type": "text"
      },
      "source": [
        "# Pyro - Dirichlet Process Mixture Models"
      ]
    },
    {
      "cell_type": "code",
      "metadata": {
        "id": "kZQl2jWTkzXl",
        "colab_type": "code",
        "outputId": "b17f175f-1814-40da-f6e6-0645a6c83815",
        "colab": {
          "base_uri": "https://localhost:8080/",
          "height": 281
        }
      },
      "source": [
        "data = torch.tensor(X_embedded_train_valid)\n",
        "\n",
        "plt.scatter(data[:, 0], data[:, 1])\n",
        "plt.title(\"Data Samples from Mixture of 4 Gaussians\")\n",
        "plt.show()\n",
        "N = data.shape[0]\n",
        "# print(data)"
      ],
      "execution_count": 0,
      "outputs": [
        {
          "output_type": "display_data",
          "data": {
            "image/png": "[encoded data removed]",
            "text/plain": [
              "<Figure size 432x288 with 1 Axes>"
            ]
          },
          "metadata": {
            "tags": []
          }
        }
      ]
    },
    {
      "cell_type": "code",
      "metadata": {
        "id": "tQFjFRgTlvtf",
        "colab_type": "code",
        "colab": {}
      },
      "source": [
        "def mix_weights(beta):\n",
        "    beta1m_cumprod = (1 - beta).cumprod(-1)\n",
        "    return F.pad(beta, (0, 1), value=1) * F.pad(beta1m_cumprod, (1, 0), value=1)"
      ],
      "execution_count": 0,
      "outputs": []
    },
    {
      "cell_type": "code",
      "metadata": {
        "id": "0IIEw8CCoalo",
        "colab_type": "code",
        "outputId": "91e83331-4d4a-458c-eca2-41eadfdd8eaa",
        "colab": {
          "base_uri": "https://localhost:8080/",
          "height": 85
        }
      },
      "source": [
        "display(HTML(\"<script src='https://cdnjs.cloudflare.com/ajax/libs/mathjax/2.7.3/\"\n",
        "               \"latest.js?config=default'></script>\"))\n",
        "\n",
        "Math(r'\\pi_{i}\\left(\\beta_{1: \\infty}\\right)=\\beta_{i} \\prod_{j<i}\\left(1-\\beta_{j}\\right)')"
      ],
      "execution_count": 0,
      "outputs": [
        {
          "output_type": "display_data",
          "data": {
            "text/html": [
              "<script src='https://cdnjs.cloudflare.com/ajax/libs/mathjax/2.7.3/latest.js?config=default'></script>"
            ],
            "text/plain": [
              "<IPython.core.display.HTML object>"
            ]
          },
          "metadata": {
            "tags": []
          }
        },
        {
          "output_type": "execute_result",
          "data": {
            "text/latex": "$$\\pi_{i}\\left(\\beta_{1: \\infty}\\right)=\\beta_{i} \\prod_{j<i}\\left(1-\\beta_{j}\\right)$$",
            "text/plain": [
              "<IPython.core.display.Math object>"
            ]
          },
          "metadata": {
            "tags": []
          },
          "execution_count": 23
        }
      ]
    },
    {
      "cell_type": "code",
      "metadata": {
        "id": "ouEtKdtrlzWD",
        "colab_type": "code",
        "colab": {}
      },
      "source": [
        "def model(data):\n",
        "    with pyro.plate(\"beta_plate\", T-1):\n",
        "        beta = pyro.sample(\"beta\", Beta(1, alpha))\n",
        "\n",
        "    with pyro.plate(\"mu_plate\", T):\n",
        "        mu = pyro.sample(\"mu\", MultivariateNormal(torch.zeros(2), 5 * torch.eye(2)))\n",
        "\n",
        "    with pyro.plate(\"data\", N):\n",
        "        z = pyro.sample(\"z\", Categorical(mix_weights(beta)))\n",
        "        pyro.sample(\"obs\", MultivariateNormal(mu[z], torch.eye(2)), obs=data)"
      ],
      "execution_count": 0,
      "outputs": []
    },
    {
      "cell_type": "code",
      "metadata": {
        "id": "d5ZE5cj_l1Nn",
        "colab_type": "code",
        "colab": {}
      },
      "source": [
        "def guide(data):\n",
        "    kappa = pyro.param('kappa', lambda: Uniform(0, 2).sample([T-1]), constraint=constraints.positive)\n",
        "    tau = pyro.param('tau', lambda: MultivariateNormal(torch.zeros(2), 3 * torch.eye(2)).sample([T]))\n",
        "    phi = pyro.param('phi', lambda: Dirichlet(1/T * torch.ones(T)).sample([N]), constraint=constraints.simplex)\n",
        "\n",
        "    with pyro.plate(\"beta_plate\", T-1):\n",
        "        q_beta = pyro.sample(\"beta\", Beta(torch.ones(T-1), kappa))\n",
        "\n",
        "    with pyro.plate(\"mu_plate\", T):\n",
        "        q_mu = pyro.sample(\"mu\", MultivariateNormal(tau, torch.eye(2)))\n",
        "\n",
        "    # with pyro.plate(\"sigma_plate\", T):\n",
        "    #     sigma = pyro.sample(\"sigma\", InverseWishart(lamda0**-1, niu0))\n",
        "\n",
        "    with pyro.plate(\"data\", N):\n",
        "        z = pyro.sample(\"z\", Categorical(phi))"
      ],
      "execution_count": 0,
      "outputs": []
    },
    {
      "cell_type": "code",
      "metadata": {
        "id": "1erjW06Dl4VF",
        "colab_type": "code",
        "outputId": "f5a923c0-849b-420e-9fc3-0513add47e23",
        "colab": {
          "base_uri": "https://localhost:8080/"
        }
      },
      "source": [
        "T = 20\n",
        "optim = Adam({\"lr\": 0.05})\n",
        "svi = SVI(model, guide, optim, loss=Trace_ELBO())\n",
        "losses = []\n",
        "\n",
        "def train(num_iterations):\n",
        "    pyro.clear_param_store()\n",
        "    for j in tqdm(range(num_iterations)):\n",
        "        loss = svi.step(data)\n",
        "        losses.append(loss)\n",
        "\n",
        "def truncate(alpha, centers, weights):\n",
        "    threshold = alpha**-1 / 100.\n",
        "    true_centers = centers[weights > threshold]\n",
        "    true_weights = weights[weights > threshold] / torch.sum(weights[weights > threshold])\n",
        "    return true_centers, true_weights\n",
        "\n",
        "alpha = 50\n",
        "train(1000)\n",
        "\n",
        "# We make a point-estimate of our model parameters using the posterior means of tau and phi for the centers and weights\n",
        "Bayes_Centers_01, Bayes_Weights_01 = truncate(alpha, pyro.param(\"tau\").detach(), torch.mean(pyro.param(\"phi\").detach(), dim=0))\n",
        "\n",
        "# alpha = 1.5\n",
        "# train(1000)\n",
        "\n",
        "# # We make a point-estimate of our model parameters using the posterior means of tau and phi for the centers and weights\n",
        "# Bayes_Centers_15, Bayes_Weights_15 = truncate(alpha, pyro.param(\"tau\").detach(), torch.mean(pyro.param(\"phi\").detach(), dim=0))\n",
        "\n",
        "plt.figure(figsize=(15, 5))\n",
        "plt.subplot(1, 2, 1)\n",
        "plt.scatter(data[:, 0], data[:, 1], color=\"blue\")\n",
        "plt.scatter(Bayes_Centers_01[:, 0], Bayes_Centers_01[:, 1], color=\"red\")\n",
        "\n",
        "# plt.subplot(1, 2, 2)\n",
        "# plt.scatter(data[:, 0], data[:, 1], color=\"blue\")\n",
        "# # plt.scatter(Bayes_Centers_15[:, 0], Bayes_Centers_15[:, 1], color=\"red\")\n",
        "# plt.tight_layout()\n",
        "plt.show()"
      ],
      "execution_count": 0,
      "outputs": [
        {
          "output_type": "stream",
          "text": [
            "100%|██████████| 1000/1000 [01:26<00:00, 10.07it/s]\n"
          ],
          "name": "stderr"
        },
        {
          "output_type": "display_data",
          "data": {
            "image/png": "[encoded data removed]",
            "text/plain": [
              "<Figure size 1080x360 with 1 Axes>"
            ]
          },
          "metadata": {
            "tags": []
          }
        }
      ]
    }
  ]
}